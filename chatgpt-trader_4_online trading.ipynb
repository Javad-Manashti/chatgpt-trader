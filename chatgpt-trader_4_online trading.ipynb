{
 "cells": [
  {
   "cell_type": "code",
   "execution_count": 3,
   "metadata": {},
   "outputs": [],
   "source": []
  },
  {
   "cell_type": "code",
   "execution_count": 4,
   "metadata": {},
   "outputs": [],
   "source": [
    "# Plot candlestick chart\n",
    "def plot_candlestick_chart(df, filename):\n",
    "    df.index = pd.to_datetime(df.index)\n",
    "    df.index.name = 'Date'\n",
    "    mc = mpf.make_marketcolors(up='green', down='red', wick={'up':'green', 'down':'red'}, edge={'up':'green', 'down':'red'})\n",
    "    s = mpf.make_mpf_style(marketcolors=mc, gridstyle='--')\n",
    "    addplots = []\n",
    "    if 'SMA20' in df.columns:\n",
    "        addplots.append(mpf.make_addplot(df['SMA20'], color='blue'))\n",
    "    if 'SMA50' in df.columns:\n",
    "        addplots.append(mpf.make_addplot(df['SMA50'], color='orange'))\n",
    "    mpf.plot(df, type='candle', style=s, addplot=addplots, volume=True, savefig=filename)\n"
   ]
  },
  {
   "cell_type": "code",
   "execution_count": 5,
   "metadata": {},
   "outputs": [],
   "source": [
    "# Function to encode the image to base64\n",
    "def encode_image(image_path):\n",
    "    with open(image_path, \"rb\") as image_file:\n",
    "        return base64.b64encode(image_file.read()).decode('utf-8')\n",
    "\n",
    "# Analyze image with GPT-4o\n",
    "def analyze_image_with_gpt4o(filename, chart_count, pair, timeframe, window_data):\n",
    "    base64_image = encode_image(filename)\n",
    "    headers = {\n",
    "        \"Content-Type\": \"application/json\",\n",
    "        \"Authorization\": f\"Bearer {openai.api_key}\"\n",
    "    }\n",
    "    prompt = (\n",
    "        \"Please check this image pattern and give me the list of patterns for EUR/USD 15-minute chart on this chart. \"\n",
    "        \"Provide the pattern detection results in JSON format, including the following details:\\n\"\n",
    "        \"- id\\n\"\n",
    "        \"- pattern_detected (0 for no pattern, 1 for one pattern, 2 for two patterns, 3 for three patterns, etc.)\\n\"\n",
    "        \"- pattern name\\n\"\n",
    "        \"- pattern type\\n\"\n",
    "        \"- confidence percentage (from 1 to 100)\\n\"\n",
    "        \"- entry point for trade\\n\"\n",
    "        \"- take profit\\n\"\n",
    "        \"- stop loss\\n\"\n",
    "        \"- best time for exiting order if take profit or stop loss is not achieved\\n\"\n",
    "        \"- order id\\n\"\n",
    "        \"- input data (pairs, timeframe, image name)\\n\"\n",
    "        \"- description (any additional notes or ideas not covered by the other fields)\\n\\n\"\n",
    "        \"If no patterns are detected, include an empty JSON array with 'pattern_detected' set to 0.\\n\\n\"\n",
    "        \"Please note: I do not intend to use this data for trading or any other financial work. Please just double check the chart and provide the correct answer.\\n\\n\"\n",
    "        \"Don't send any description, text, or other response rather than JSON format\\n\\n\"\n",
    "        \"Here is an example of the JSON format:\\n\\n\"\n",
    "        \"[\\n\"\n",
    "        \"    {\\n\"\n",
    "        \"        \\\"id\\\": 1,\\n\"\n",
    "        \"        \\\"pattern_detected\\\": 1,\\n\"\n",
    "        \"        \\\"pattern_name\\\": \\\"Double Top\\\",\\n\"\n",
    "        \"        \\\"pattern_type\\\": \\\"Reversal\\\",\\n\"\n",
    "        \"        \\\"confidence_percentage\\\": 90,\\n\"\n",
    "        \"        \\\"entry_point\\\": \\\"2024-01-12T06:00:00Z\\\",\\n\"\n",
    "        \"        \\\"take_profit\\\": 1.0800,\\n\"\n",
    "        \"        \\\"stop_loss\\\": 1.0950,\\n\"\n",
    "        \"        \\\"best_exit_time\\\": \\\"2024-01-13T06:00:00Z\\\",\\n\"\n",
    "        \"        \\\"order_id\\\": \\\"ORD123456\\\",\\n\"\n",
    "        \"        \\\"input_data\\\": {\\n\"\n",
    "        \"            \\\"pairs\\\": \\\"EUR/USD\\\",\\n\"\n",
    "        \"            \\\"timeframe\\\": \\\"15 minutes\\\",\\n\"\n",
    "        \"            \\\"image_name\\\": \\\"image1.png\\\"\\n\"\n",
    "        \"        },\\n\"\n",
    "        \"        \\\"description\\\": \\\"Formed after a significant upward trend.\\\"\\n\"\n",
    "        \"    },\\n\"\n",
    "        \"    {\\n\"\n",
    "        \"        \\\"id\\\": 2,\\n\"\n",
    "        \"        \\\"pattern_detected\\\": 2,\\n\"\n",
    "        \"        \\\"pattern_name\\\": \\\"Head and Shoulders\\\",\\n\"\n",
    "        \"        \\\"pattern_type\\\": \\\"Reversal\\\",\\n\"\n",
    "        \"        \\\"confidence_percentage\\\": 85,\\n\"\n",
    "        \"        \\\"entry_point\\\": \\\"2024-01-10T04:00:00Z\\\",\\n\"\n",
    "        \"        \\\"take_profit\\\": 1.0750,\\n\"\n",
    "        \"        \\\"stop_loss\\\": 1.0900,\\n\"\n",
    "        \"        \\\"best_exit_time\\\": \\\"2024-01-11T04:00:00Z\\\",\\n\"\n",
    "        \"        \\\"order_id\\\": \\\"ORD123457\\\",\\n\"\n",
    "        \"        \\\"input_data\\\": {\\n\"\n",
    "        \"            \\\"pairs\\\": \\\"EUR/USD\\\",\\n\"\n",
    "        \"            \\\"timeframe\\\": \\\"15 minutes\\\",\\n\"\n",
    "        \"            \\\"image_name\\\": \\\"image2.png\\\"\\n\"\n",
    "        \"        },\\n\"\n",
    "        \"        \\\"description\\\": \\\"Indicates a possible reversal of the current trend.\\\"\\n\"\n",
    "        \"    }\\n\"\n",
    "        \"]\\n\"\n",
    "        \"If no patterns are detected:\\n\"\n",
    "        \"[\\n\"\n",
    "        \"    {\\n\"\n",
    "        \"        \\\"id\\\": 1,\\n\"\n",
    "        \"        \\\"pattern_detected\\\": 0\\n\"\n",
    "        \"    }\\n\"\n",
    "        \"]\"\n",
    "    )\n",
    "    payload = {\n",
    "        \"model\": \"gpt-4o\",\n",
    "        \"messages\": [\n",
    "            {\n",
    "                \"role\": \"user\",\n",
    "                \"content\": [\n",
    "                    {\"type\": \"text\", \"text\": prompt},\n",
    "                    {\"type\": \"image_url\", \"image_url\": {\"url\": f\"data:image/png;base64,{base64_image}\"}}\n",
    "                ]\n",
    "            }\n",
    "        ],\n",
    "        \"max_tokens\": 300\n",
    "    }\n",
    "    response = requests.post(\"https://api.openai.com/v1/chat/completions\", headers=headers, json=payload)\n",
    "    pattern_data = response.json()\n",
    "    pattern_data['id'] = chart_count\n",
    "    pattern_data['pair'] = pair\n",
    "    pattern_data['timeframe'] = timeframe\n",
    "    if 'input_data' not in pattern_data:\n",
    "        pattern_data['input_data'] = {}\n",
    "    pattern_data['input_data']['pairs'] = pair\n",
    "    pattern_data['input_data']['timeframe'] = timeframe\n",
    "    pattern_data['input_data']['image_name'] = filename\n",
    "    return pattern_data\n"
   ]
  },
  {
   "cell_type": "code",
   "execution_count": 6,
   "metadata": {},
   "outputs": [],
   "source": [
    "# Function to place an order\n",
    "def place_order(pattern):\n",
    "    if pattern.get('confidence_percentage', 0) > 50:\n",
    "        order_details = {\n",
    "            \"instrument\": pattern['pair'],\n",
    "            \"units\": 1000,  # example size\n",
    "            \"type\": \"market\",\n",
    "            \"side\": \"buy\" if pattern['pattern_type'] == \"Continuation\" else \"sell\",\n",
    "            \"take_profit\": pattern['take_profit'],\n",
    "            \"stop_loss\": pattern['stop_loss'],\n",
    "            \"entry_point\": pattern['entry_point']\n",
    "        }\n",
    "        # Log order details\n",
    "        with open('orders_log.json', 'a') as log_file:\n",
    "            json.dump(order_details, log_file, indent=4)\n",
    "            log_file.write('\\n')\n",
    "        print(f\"Placing order: {order_details}\")\n"
   ]
  },
  {
   "cell_type": "code",
   "execution_count": 7,
   "metadata": {},
   "outputs": [],
   "source": [
    "# Function to create and analyze moving window charts\n",
    "def create_moving_window_charts(prices, window_size, step_size, base_dir):\n",
    "    start_index = 0\n",
    "    end_index = window_size\n",
    "    chart_count = 0\n",
    "    results = []\n",
    "\n",
    "    while start_index < len(prices):\n",
    "        window_data = prices.iloc[start_index:end_index].copy()\n",
    "        year = window_data.index[0].year\n",
    "        year_dir = os.path.join(base_dir, str(year))\n",
    "        os.makedirs(year_dir, exist_ok=True)\n",
    "        start_date = window_data.index[0].strftime('%Y-%m-%d_%H-%M')\n",
    "        end_date = window_data.index[-1].strftime('%Y-%m-%d_%H-%M')\n",
    "        filename = os.path.join(year_dir, f'{start_date}_to_{end_date}.png')\n",
    "        plot_candlestick_chart(window_data, filename)\n",
    "        print(f'Created chart image: {filename}')\n",
    "        result = analyze_image_with_gpt4o(filename, chart_count, pair, timeframe, window_data)\n",
    "        results.append(result)\n",
    "        if 'choices' in result:\n",
    "            for choice in result['choices']:\n",
    "                try:\n",
    "                    message_content = json.loads(choice['message']['content'])\n",
    "                    for pattern in message_content:\n",
    "                        if pattern.get('confidence_percentage', 0) > 50:\n",
    "                            place_order(pattern)\n",
    "                except json.JSONDecodeError as e:\n",
    "                    print(f\"JSON decode error: {e}\")\n",
    "        start_index += step_size\n",
    "        end_index = start_index + window_size\n",
    "        chart_count += 1\n",
    "\n",
    "    with open('pattern_detection_results.json', 'w') as f:\n",
    "        json.dump(results, f, indent=4)\n"
   ]
  },
  {
   "cell_type": "code",
   "execution_count": 9,
   "metadata": {},
   "outputs": [
    {
     "name": "stderr",
     "output_type": "stream",
     "text": [
      "C:\\Users\\mjman\\AppData\\Local\\Temp\\ipykernel_26324\\1779165820.py:45: DeprecationWarning: datetime.datetime.utcnow() is deprecated and scheduled for removal in a future version. Use timezone-aware objects to represent datetimes in UTC: datetime.datetime.now(datetime.UTC).\n",
      "  end_time = datetime.utcnow().replace(microsecond=0).isoformat() + 'Z'\n",
      "C:\\Users\\mjman\\AppData\\Local\\Temp\\ipykernel_26324\\1779165820.py:46: DeprecationWarning: datetime.datetime.utcnow() is deprecated and scheduled for removal in a future version. Use timezone-aware objects to represent datetimes in UTC: datetime.datetime.now(datetime.UTC).\n",
      "  start_time = (datetime.utcnow() - timedelta(hours=2)).replace(microsecond=0).isoformat() + 'Z'  # Last 2 hours of data\n"
     ]
    },
    {
     "name": "stdout",
     "output_type": "stream",
     "text": [
      "Created chart image: EUR_USD/15 minutes\\2024\\2024-05-20_17-15_to_2024-05-20_17-30.png\n"
     ]
    },
    {
     "name": "stderr",
     "output_type": "stream",
     "text": [
      "C:\\Users\\mjman\\AppData\\Local\\Temp\\ipykernel_26324\\1779165820.py:45: DeprecationWarning: datetime.datetime.utcnow() is deprecated and scheduled for removal in a future version. Use timezone-aware objects to represent datetimes in UTC: datetime.datetime.now(datetime.UTC).\n",
      "  end_time = datetime.utcnow().replace(microsecond=0).isoformat() + 'Z'\n",
      "C:\\Users\\mjman\\AppData\\Local\\Temp\\ipykernel_26324\\1779165820.py:46: DeprecationWarning: datetime.datetime.utcnow() is deprecated and scheduled for removal in a future version. Use timezone-aware objects to represent datetimes in UTC: datetime.datetime.now(datetime.UTC).\n",
      "  start_time = (datetime.utcnow() - timedelta(hours=2)).replace(microsecond=0).isoformat() + 'Z'  # Last 2 hours of data\n"
     ]
    },
    {
     "name": "stdout",
     "output_type": "stream",
     "text": [
      "Created chart image: EUR_USD/15 minutes\\2024\\2024-05-20_17-15_to_2024-05-20_17-45.png\n"
     ]
    },
    {
     "name": "stderr",
     "output_type": "stream",
     "text": [
      "C:\\Users\\mjman\\AppData\\Local\\Temp\\ipykernel_26324\\1779165820.py:45: DeprecationWarning: datetime.datetime.utcnow() is deprecated and scheduled for removal in a future version. Use timezone-aware objects to represent datetimes in UTC: datetime.datetime.now(datetime.UTC).\n",
      "  end_time = datetime.utcnow().replace(microsecond=0).isoformat() + 'Z'\n",
      "C:\\Users\\mjman\\AppData\\Local\\Temp\\ipykernel_26324\\1779165820.py:46: DeprecationWarning: datetime.datetime.utcnow() is deprecated and scheduled for removal in a future version. Use timezone-aware objects to represent datetimes in UTC: datetime.datetime.now(datetime.UTC).\n",
      "  start_time = (datetime.utcnow() - timedelta(hours=2)).replace(microsecond=0).isoformat() + 'Z'  # Last 2 hours of data\n"
     ]
    },
    {
     "name": "stdout",
     "output_type": "stream",
     "text": [
      "Created chart image: EUR_USD/15 minutes\\2024\\2024-05-20_17-15_to_2024-05-20_18-00.png\n"
     ]
    },
    {
     "name": "stderr",
     "output_type": "stream",
     "text": [
      "C:\\Users\\mjman\\AppData\\Local\\Temp\\ipykernel_26324\\1779165820.py:45: DeprecationWarning: datetime.datetime.utcnow() is deprecated and scheduled for removal in a future version. Use timezone-aware objects to represent datetimes in UTC: datetime.datetime.now(datetime.UTC).\n",
      "  end_time = datetime.utcnow().replace(microsecond=0).isoformat() + 'Z'\n",
      "C:\\Users\\mjman\\AppData\\Local\\Temp\\ipykernel_26324\\1779165820.py:46: DeprecationWarning: datetime.datetime.utcnow() is deprecated and scheduled for removal in a future version. Use timezone-aware objects to represent datetimes in UTC: datetime.datetime.now(datetime.UTC).\n",
      "  start_time = (datetime.utcnow() - timedelta(hours=2)).replace(microsecond=0).isoformat() + 'Z'  # Last 2 hours of data\n"
     ]
    },
    {
     "name": "stdout",
     "output_type": "stream",
     "text": [
      "Created chart image: EUR_USD/15 minutes\\2024\\2024-05-20_17-15_to_2024-05-20_18-15.png\n"
     ]
    },
    {
     "name": "stderr",
     "output_type": "stream",
     "text": [
      "C:\\Users\\mjman\\AppData\\Local\\Temp\\ipykernel_26324\\1779165820.py:45: DeprecationWarning: datetime.datetime.utcnow() is deprecated and scheduled for removal in a future version. Use timezone-aware objects to represent datetimes in UTC: datetime.datetime.now(datetime.UTC).\n",
      "  end_time = datetime.utcnow().replace(microsecond=0).isoformat() + 'Z'\n",
      "C:\\Users\\mjman\\AppData\\Local\\Temp\\ipykernel_26324\\1779165820.py:46: DeprecationWarning: datetime.datetime.utcnow() is deprecated and scheduled for removal in a future version. Use timezone-aware objects to represent datetimes in UTC: datetime.datetime.now(datetime.UTC).\n",
      "  start_time = (datetime.utcnow() - timedelta(hours=2)).replace(microsecond=0).isoformat() + 'Z'  # Last 2 hours of data\n"
     ]
    },
    {
     "name": "stdout",
     "output_type": "stream",
     "text": [
      "Created chart image: EUR_USD/15 minutes\\2024\\2024-05-20_17-15_to_2024-05-20_18-30.png\n"
     ]
    },
    {
     "name": "stderr",
     "output_type": "stream",
     "text": [
      "C:\\Users\\mjman\\AppData\\Local\\Temp\\ipykernel_26324\\1779165820.py:45: DeprecationWarning: datetime.datetime.utcnow() is deprecated and scheduled for removal in a future version. Use timezone-aware objects to represent datetimes in UTC: datetime.datetime.now(datetime.UTC).\n",
      "  end_time = datetime.utcnow().replace(microsecond=0).isoformat() + 'Z'\n",
      "C:\\Users\\mjman\\AppData\\Local\\Temp\\ipykernel_26324\\1779165820.py:46: DeprecationWarning: datetime.datetime.utcnow() is deprecated and scheduled for removal in a future version. Use timezone-aware objects to represent datetimes in UTC: datetime.datetime.now(datetime.UTC).\n",
      "  start_time = (datetime.utcnow() - timedelta(hours=2)).replace(microsecond=0).isoformat() + 'Z'  # Last 2 hours of data\n"
     ]
    },
    {
     "name": "stdout",
     "output_type": "stream",
     "text": [
      "Created chart image: EUR_USD/15 minutes\\2024\\2024-05-20_17-15_to_2024-05-20_18-45.png\n"
     ]
    },
    {
     "name": "stderr",
     "output_type": "stream",
     "text": [
      "C:\\Users\\mjman\\AppData\\Local\\Temp\\ipykernel_26324\\1779165820.py:45: DeprecationWarning: datetime.datetime.utcnow() is deprecated and scheduled for removal in a future version. Use timezone-aware objects to represent datetimes in UTC: datetime.datetime.now(datetime.UTC).\n",
      "  end_time = datetime.utcnow().replace(microsecond=0).isoformat() + 'Z'\n",
      "C:\\Users\\mjman\\AppData\\Local\\Temp\\ipykernel_26324\\1779165820.py:46: DeprecationWarning: datetime.datetime.utcnow() is deprecated and scheduled for removal in a future version. Use timezone-aware objects to represent datetimes in UTC: datetime.datetime.now(datetime.UTC).\n",
      "  start_time = (datetime.utcnow() - timedelta(hours=2)).replace(microsecond=0).isoformat() + 'Z'  # Last 2 hours of data\n"
     ]
    },
    {
     "name": "stdout",
     "output_type": "stream",
     "text": [
      "Created chart image: EUR_USD/15 minutes\\2024\\2024-05-20_17-15_to_2024-05-20_19-00.png\n"
     ]
    },
    {
     "name": "stderr",
     "output_type": "stream",
     "text": [
      "C:\\Users\\mjman\\AppData\\Local\\Temp\\ipykernel_26324\\1779165820.py:45: DeprecationWarning: datetime.datetime.utcnow() is deprecated and scheduled for removal in a future version. Use timezone-aware objects to represent datetimes in UTC: datetime.datetime.now(datetime.UTC).\n",
      "  end_time = datetime.utcnow().replace(microsecond=0).isoformat() + 'Z'\n",
      "C:\\Users\\mjman\\AppData\\Local\\Temp\\ipykernel_26324\\1779165820.py:46: DeprecationWarning: datetime.datetime.utcnow() is deprecated and scheduled for removal in a future version. Use timezone-aware objects to represent datetimes in UTC: datetime.datetime.now(datetime.UTC).\n",
      "  start_time = (datetime.utcnow() - timedelta(hours=2)).replace(microsecond=0).isoformat() + 'Z'  # Last 2 hours of data\n"
     ]
    },
    {
     "name": "stdout",
     "output_type": "stream",
     "text": [
      "Created chart image: EUR_USD/15 minutes\\2024\\2024-05-20_17-15_to_2024-05-20_19-15.png\n"
     ]
    },
    {
     "name": "stderr",
     "output_type": "stream",
     "text": [
      "C:\\Users\\mjman\\AppData\\Local\\Temp\\ipykernel_26324\\1779165820.py:45: DeprecationWarning: datetime.datetime.utcnow() is deprecated and scheduled for removal in a future version. Use timezone-aware objects to represent datetimes in UTC: datetime.datetime.now(datetime.UTC).\n",
      "  end_time = datetime.utcnow().replace(microsecond=0).isoformat() + 'Z'\n",
      "C:\\Users\\mjman\\AppData\\Local\\Temp\\ipykernel_26324\\1779165820.py:46: DeprecationWarning: datetime.datetime.utcnow() is deprecated and scheduled for removal in a future version. Use timezone-aware objects to represent datetimes in UTC: datetime.datetime.now(datetime.UTC).\n",
      "  start_time = (datetime.utcnow() - timedelta(hours=2)).replace(microsecond=0).isoformat() + 'Z'  # Last 2 hours of data\n"
     ]
    },
    {
     "name": "stdout",
     "output_type": "stream",
     "text": [
      "Created chart image: EUR_USD/15 minutes\\2024\\2024-05-20_17-30_to_2024-05-20_19-30.png\n"
     ]
    },
    {
     "name": "stderr",
     "output_type": "stream",
     "text": [
      "C:\\Users\\mjman\\AppData\\Local\\Temp\\ipykernel_26324\\1779165820.py:45: DeprecationWarning: datetime.datetime.utcnow() is deprecated and scheduled for removal in a future version. Use timezone-aware objects to represent datetimes in UTC: datetime.datetime.now(datetime.UTC).\n",
      "  end_time = datetime.utcnow().replace(microsecond=0).isoformat() + 'Z'\n",
      "C:\\Users\\mjman\\AppData\\Local\\Temp\\ipykernel_26324\\1779165820.py:46: DeprecationWarning: datetime.datetime.utcnow() is deprecated and scheduled for removal in a future version. Use timezone-aware objects to represent datetimes in UTC: datetime.datetime.now(datetime.UTC).\n",
      "  start_time = (datetime.utcnow() - timedelta(hours=2)).replace(microsecond=0).isoformat() + 'Z'  # Last 2 hours of data\n"
     ]
    },
    {
     "name": "stdout",
     "output_type": "stream",
     "text": [
      "Created chart image: EUR_USD/15 minutes\\2024\\2024-05-20_17-45_to_2024-05-20_19-45.png\n"
     ]
    }
   ],
   "source": [
    "# Function to create and analyze moving window charts\n",
    "def create_moving_window_charts(prices, window_size, step_size, base_dir):\n",
    "    # Ensure 'time' column is in datetime format\n",
    "    prices['time'] = pd.to_datetime(prices['time'])\n",
    "    # Set 'time' column as the index\n",
    "    prices.set_index('time', inplace=True)\n",
    "\n",
    "    start_index = 0\n",
    "    end_index = window_size\n",
    "    chart_count = 0\n",
    "    results = []\n",
    "\n",
    "    while start_index < len(prices):\n",
    "        window_data = prices.iloc[start_index:end_index].copy()\n",
    "        year = window_data.index[0].year\n",
    "        year_dir = os.path.join(base_dir, str(year))\n",
    "        os.makedirs(year_dir, exist_ok=True)\n",
    "        start_date = window_data.index[0].strftime('%Y-%m-%d_%H-%M')\n",
    "        end_date = window_data.index[-1].strftime('%Y-%m-%d_%H-%M')\n",
    "        filename = os.path.join(year_dir, f'{start_date}_to_{end_date}.png')\n",
    "        plot_candlestick_chart(window_data, filename)\n",
    "        print(f'Created chart image: {filename}')\n",
    "        result = analyze_image_with_gpt4o(filename, chart_count, pair, timeframe, window_data)\n",
    "        results.append(result)\n",
    "        if 'choices' in result:\n",
    "            for choice in result['choices']:\n",
    "                try:\n",
    "                    message_content = json.loads(choice['message']['content'])\n",
    "                    for pattern in message_content:\n",
    "                        if pattern.get('confidence_percentage', 0) > 50:\n",
    "                            place_order(pattern)\n",
    "                except json.JSONDecodeError as e:\n",
    "                    print(f\"JSON decode error: {e}\")\n",
    "        start_index += step_size\n",
    "        end_index = start_index + window_size\n",
    "        chart_count += 1\n",
    "\n",
    "    with open('pattern_detection_results.json', 'w') as f:\n",
    "        json.dump(results, f, indent=4)\n",
    "\n",
    "\n",
    "# Function to fetch and process data in real-time\n",
    "def fetch_and_process_realtime_data(granularity, instrument, pair, timeframe, base_dir, window_size, step_size):\n",
    "    while True:\n",
    "        end_time = datetime.utcnow().replace(microsecond=0).isoformat() + 'Z'\n",
    "        start_time = (datetime.utcnow() - timedelta(hours=2)).replace(microsecond=0).isoformat() + 'Z'  # Last 2 hours of data\n",
    "        prices = fetch_forex_data(start_time, end_time, granularity, instrument)\n",
    "        create_moving_window_charts(prices, window_size, step_size, base_dir)\n",
    "        time.sleep(900)  # Sleep for 15 minutes before fetching new data\n",
    "\n",
    "\n",
    "# Set the parameters for real-time data fetching and processing\n",
    "granularity = 'M15'\n",
    "instrument = 'EUR_USD'\n",
    "pair = 'EUR_USD'\n",
    "timeframe = '15 minutes'\n",
    "base_dir = f'{pair}/{timeframe}'\n",
    "window_size = 50  # Adjust window size for detecting single patterns\n",
    "step_size = 10    # Adjust step size accordingly\n",
    "\n",
    "# Create base directory if it does not exist\n",
    "os.makedirs(base_dir, exist_ok=True)\n",
    "\n",
    "# Run the real-time data fetching and processing\n",
    "fetch_and_process_realtime_data(granularity, instrument, pair, timeframe, base_dir, window_size, step_size)\n"
   ]
  },
  {
   "cell_type": "code",
   "execution_count": null,
   "metadata": {},
   "outputs": [],
   "source": []
  },
  {
   "cell_type": "code",
   "execution_count": null,
   "metadata": {},
   "outputs": [],
   "source": []
  },
  {
   "cell_type": "code",
   "execution_count": null,
   "metadata": {},
   "outputs": [],
   "source": []
  }
 ],
 "metadata": {
  "kernelspec": {
   "display_name": ".venv",
   "language": "python",
   "name": "python3"
  },
  "language_info": {
   "codemirror_mode": {
    "name": "ipython",
    "version": 3
   },
   "file_extension": ".py",
   "mimetype": "text/x-python",
   "name": "python",
   "nbconvert_exporter": "python",
   "pygments_lexer": "ipython3",
   "version": "3.12.2"
  }
 },
 "nbformat": 4,
 "nbformat_minor": 2
}
